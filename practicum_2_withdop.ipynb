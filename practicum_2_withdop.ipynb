{
 "cells": [
  {
   "cell_type": "code",
   "execution_count": 1,
   "id": "8be62e05",
   "metadata": {},
   "outputs": [],
   "source": [
    "import shutil\n",
    "import os"
   ]
  },
  {
   "cell_type": "code",
   "execution_count": 2,
   "id": "bc6c425f",
   "metadata": {},
   "outputs": [],
   "source": [
    "def greet():\n",
    "    print('    ----------------------------------------\\n\\\n",
    "    1.Создание папки (с указанием имени);\\n\\\n",
    "    2.Удаление папки по имени;\\n\\\n",
    "    3.Перемещение между папками (в пределах рабочей папки) - заход в папку по имени, выход на уровень вверх;\\n\\\n",
    "    4.Создание пустых файлов с указанием имени;\\n\\\n",
    "    5.Запись текста в файл;\\n\\\n",
    "    6.Просмотр содержимого текстового файла;\\n\\\n",
    "    7.Удаление файлов по имени;\\n\\\n",
    "    8.Копирование файлов из одной папки в другую;\\n\\\n",
    "    9.Перемещение файлов;\\n\\\n",
    "    10.Переименование файлов.\\n\\\n",
    "    11.Вывод текущей директории\\n\\\n",
    "    0 - выход пользователя\\n\\\n",
    "    ----------------------------------------')\n",
    "    try:\n",
    "        command = int(input('Выберите номер желаемой команды '))\n",
    "    except ValueError:\n",
    "        print('Ошибка ввода')\n",
    "        return greet()\n",
    "    return command"
   ]
  },
  {
   "cell_type": "code",
   "execution_count": 3,
   "id": "a6896c5c",
   "metadata": {},
   "outputs": [],
   "source": [
    "def mkdir():\n",
    "    name = input('Напишите имя создаваемой папки ')\n",
    "    os.mkdir(name)"
   ]
  },
  {
   "cell_type": "code",
   "execution_count": 4,
   "id": "b17b213f",
   "metadata": {},
   "outputs": [],
   "source": [
    "def rmdir():\n",
    "    print('папки, которые пользователь может удалить в данной директории:')\n",
    "    for i in os.listdir('.'):\n",
    "        if os.path.isdir(i):\n",
    "            print(i)\n",
    "    name = input('Введите название папки, которую хотите удалить: ')\n",
    "    if not os.path.isdir(name):\n",
    "        print('Такой папки нет')\n",
    "    else:   \n",
    "        os.rmdir(name)"
   ]
  },
  {
   "cell_type": "code",
   "execution_count": 5,
   "id": "d67223ff",
   "metadata": {},
   "outputs": [],
   "source": [
    "def chdir(root):\n",
    "    if len(os.listdir()) == 0 and os.getcwd() == root:\n",
    "        print('нет папок, доступных для перемещения')\n",
    "    elif len(os.listdir()) != 0 and os.getcwd() == root:\n",
    "        print('папки, в которые пользователь может переместитрься: ',[i for i in os.listdir('.') if os.path.isdir(i)])\n",
    "        name = input('Введите название папки, в которую хотите переместитться\\nЕсли хотите переместиться выше введите \"..\"(без кавычек) ')\n",
    "        \n",
    "        if name == '..':\n",
    "            print('Перемещение выше запрещено')\n",
    "        elif name not in os.listdir('.'):\n",
    "            print('Данной папки не существует')\n",
    "        else:\n",
    "            os.chdir(name)\n",
    "    else:\n",
    "        name = input('Введите название папки, в которую хотите переместитться\\nЕсли хотите переместиться выше введите \"..\"(без кавычек) ')\n",
    "        if name in os.listdir('.') or name == '..':\n",
    "            os.chdir(name)\n",
    "        else:\n",
    "            print('Данной папки нет')\n",
    "        \n",
    "            \n",
    "        \n",
    "        "
   ]
  },
  {
   "cell_type": "code",
   "execution_count": 6,
   "id": "0deeaac4",
   "metadata": {},
   "outputs": [],
   "source": [
    "def crfile():\n",
    "    try:\n",
    "        name = input('Напишите название текстового файла,который хотите создать:\\n')\n",
    "        if (name + '.txt') in os.listdir():\n",
    "            answer = input('Данный файл уже существует.\\nХотите перезаписать его?\\nНапишите  да  или  нет:  ')\n",
    "            if answer == 'да':\n",
    "                new_file = open(name + '.txt', \"w\")\n",
    "        else:   \n",
    "            new_file = open(name + '.txt', \"w\")\n",
    "    except FileNotFoundError:\n",
    "        print('Такого файла не существует')"
   ]
  },
  {
   "cell_type": "code",
   "execution_count": 7,
   "id": "9298e8cb",
   "metadata": {},
   "outputs": [],
   "source": [
    "def wrfile():\n",
    "    try:\n",
    "        for i in os.listdir('.'):\n",
    "            if os.path.isfile(i):\n",
    "                print(i)\n",
    "        name = input('Напишите имя файл из предоставленных, в который хотите сделать запись\\n\\\n",
    "    (В ином случае будет создан файл с другим названием и в нём будет сделана запись\\n')\n",
    "        text = input('Введите ваш текст:\\n')\n",
    "        with open(name+'.txt','w') as f:\n",
    "            f.write(text)\n",
    "    except FileNotFoundError:\n",
    "        print('Такого файла не существует')"
   ]
  },
  {
   "cell_type": "code",
   "execution_count": 8,
   "id": "4c88dcd6",
   "metadata": {},
   "outputs": [],
   "source": [
    "def check_txt():   # показывает лишь текстовые файлы в данной директории\n",
    "    a = []\n",
    "    for i in os.listdir('.'):\n",
    "        if os.path.isfile(i):\n",
    "            if len(i.split('.'))==2 and i.split('.')[1]=='txt':\n",
    "                a.append(i)\n",
    "    return a"
   ]
  },
  {
   "cell_type": "code",
   "execution_count": 9,
   "id": "1f7cc35c",
   "metadata": {},
   "outputs": [],
   "source": [
    "def refile():\n",
    "    print(check_txt())\n",
    "    name = input('Выберите текстовый файл из предоставленных, содержимое которого хотите просмотреть\\n')\n",
    "    print('------------------------------')\n",
    "    try:\n",
    "        with open(name+'.txt','r') as f:\n",
    "            print(f.read())\n",
    "    except FileNotFoundError:\n",
    "        print('Такого файла не существует')\n",
    "    "
   ]
  },
  {
   "cell_type": "code",
   "execution_count": 10,
   "id": "0ca9222a",
   "metadata": {},
   "outputs": [],
   "source": [
    "def delfile():\n",
    "    for i in os.listdir('.'):\n",
    "        if os.path.isfile(i):\n",
    "            print(i)\n",
    "    try:        \n",
    "        name = input('Выберите из списка выше название файла,которого вы хотите удалить:\\n')\n",
    "        os.remove(name+'.txt')\n",
    "    except FileNotFoundError:\n",
    "        print('Такого файла не существует')"
   ]
  },
  {
   "cell_type": "code",
   "execution_count": 11,
   "id": "668aadc9",
   "metadata": {},
   "outputs": [],
   "source": [
    "def copyfile():\n",
    "    print('Содержимое папки:\\n')\n",
    "    \n",
    "    print('Файлы:\\n')\n",
    "    for i in os.listdir('.'):\n",
    "        if os.path.isfile(i):\n",
    "            print(i)\n",
    "    \n",
    "    print('\\nПапки:\\n')\n",
    "    for i in os.listdir('.'):\n",
    "        if os.path.isdir(i):\n",
    "            print(i)\n",
    "    try:        \n",
    "        name = input('Выберите из списка выше файл,который вы хотите скопировать в другую папку:\\n')\n",
    "        directory = input('Напишите название папки или путь до папки в которую вы хотите скопировать файл:\\n')\n",
    "        new_name = input('Введите новое название для этого скопированного файла\\n')\n",
    "        shutil.copyfile(str(name)+'.txt',str(directory)+'/'+str(new_name)+'.txt')\n",
    "    except FileNotFoundError:\n",
    "        print('Такого файла не существует')"
   ]
  },
  {
   "cell_type": "code",
   "execution_count": 12,
   "id": "413703f4",
   "metadata": {},
   "outputs": [],
   "source": [
    "def replace():\n",
    "    print('Содержимое папки:\\n')\n",
    "    \n",
    "    print('Файлы:\\n')\n",
    "    for i in os.listdir('.'):\n",
    "        if os.path.isfile(i):\n",
    "            print(i)\n",
    "    \n",
    "    print('\\nПапки:\\n')\n",
    "    for i in os.listdir('.'):\n",
    "        if os.path.isdir(i):\n",
    "            print(i)\n",
    "            \n",
    "    now = input('Ведите путь и имя файла, который котите перенести\\n')\n",
    "    after = input('Введите место куда хотите перенести файл и его имя\\n')\n",
    "    #os.replace(str(name),str(directory)+'/'+str(name))\n",
    "    try:\n",
    "        os.replace(str(now)+'.txt',str(after)+'.txt')\n",
    "    except FileNotFoundError:\n",
    "        print('Такого файла не существует')\n",
    "    "
   ]
  },
  {
   "cell_type": "code",
   "execution_count": 13,
   "id": "3008e2ae",
   "metadata": {},
   "outputs": [],
   "source": [
    "def rename():\n",
    "    try:\n",
    "        print('Файлы в текущей дирекории:\\n')\n",
    "        for i in os.listdir('.'):\n",
    "            if os.path.isfile(i):\n",
    "                print(i)\n",
    "        path = input('Если файла нет в данной директории напишите его путь(без названия файла),иначе напишите no')\n",
    "        if path !='no':\n",
    "            print('Файлы в выбранной директории:\\n',os.listdir(path))\n",
    "        name = input('Напишите имя файла,который вы хотите переименовать:\\n')\n",
    "        new_name = input('Введите новое имя:\\n')\n",
    "\n",
    "        if path == 'no':\n",
    "            os.rename(name+'.txt',new_name+'.txt') \n",
    "        else:  \n",
    "            os.rename(path+'/'+name+'.txt',path+'/'+new_name+'.txt')\n",
    "    except FileNotFoundError:\n",
    "        print('Такого файла не существует')"
   ]
  },
  {
   "cell_type": "code",
   "execution_count": null,
   "id": "a1d72517",
   "metadata": {},
   "outputs": [],
   "source": []
  },
  {
   "cell_type": "code",
   "execution_count": 14,
   "id": "c0be8dbb",
   "metadata": {},
   "outputs": [],
   "source": [
    "root = os.getcwd()"
   ]
  },
  {
   "cell_type": "code",
   "execution_count": 15,
   "id": "3d07d877",
   "metadata": {},
   "outputs": [
    {
     "name": "stdout",
     "output_type": "stream",
     "text": [
      "Расположение 'корневой' для данной работы папки: /Users/admin/файловый менеджер\n"
     ]
    }
   ],
   "source": [
    "print(\"Расположение 'корневой' для данной работы папки:\", os.getcwd())"
   ]
  },
  {
   "cell_type": "markdown",
   "id": "11b2d750",
   "metadata": {},
   "source": [
    "### глобальные переменные"
   ]
  },
  {
   "cell_type": "code",
   "execution_count": 16,
   "id": "7801fa51",
   "metadata": {},
   "outputs": [],
   "source": [
    "ROOT = os.getcwd()"
   ]
  },
  {
   "cell_type": "code",
   "execution_count": 17,
   "id": "7fd7b010",
   "metadata": {},
   "outputs": [],
   "source": [
    "saved_data = {}"
   ]
  },
  {
   "cell_type": "markdown",
   "id": "68a6c5f9",
   "metadata": {},
   "source": [
    "### основной код"
   ]
  },
  {
   "cell_type": "code",
   "execution_count": 18,
   "id": "4172f94c",
   "metadata": {},
   "outputs": [],
   "source": [
    "ROOT = '/Users/admin/файловый менеджер'\n",
    "def task():\n",
    "    #чтобы при ошибке возращались к исходной директории\n",
    "    while os.getcwd()!=ROOT:\n",
    "        os.chdir('..')\n",
    "    \n",
    "    \n",
    "    user = input('Введите имя пользователя:\\n')\n",
    "    if not os.path.isdir(user):\n",
    "        os.mkdir(user)\n",
    "        password = input('Установите пароль: ')\n",
    "        global saved_data\n",
    "        saved_data[user] = password\n",
    "    else:\n",
    "        check = input('Введите установленный пароль: ')\n",
    "        if saved_data[user]==check:\n",
    "            print('Здравствуйте, ',user)\n",
    "        else:\n",
    "            print('Пароль введён неверно')\n",
    "            return task()\n",
    "        \n",
    "    os.chdir(user)\n",
    "    root = os.getcwd()\n",
    "    \n",
    "    while True:\n",
    "        command = greet()\n",
    "        if command == 1:\n",
    "            mkdir()\n",
    "        if command == 100:\n",
    "            print(saved_data)\n",
    "\n",
    "\n",
    "        if command == 2:\n",
    "            rmdir()\n",
    "\n",
    "\n",
    "        if command == 3:\n",
    "            chdir(root)\n",
    "\n",
    "\n",
    "        if command == 4:\n",
    "            crfile()\n",
    "\n",
    "        if command == 5:\n",
    "            wrfile()\n",
    "\n",
    "        if command == 6:\n",
    "            refile()\n",
    "\n",
    "        if command == 7:\n",
    "            delfile()\n",
    "\n",
    "        if command == 8:\n",
    "            copyfile()\n",
    "\n",
    "        if command == 9:\n",
    "            replace()\n",
    "\n",
    "        if command == 10:\n",
    "            rename()\n",
    "\n",
    "        if command == 11:\n",
    "            print(os.getcwd())\n",
    "\n",
    "\n",
    "        if command == 0:\n",
    "            while os.getcwd()!=ROOT:\n",
    "                os.chdir('..')\n",
    "            break"
   ]
  },
  {
   "cell_type": "code",
   "execution_count": null,
   "id": "856ff040",
   "metadata": {},
   "outputs": [
    {
     "name": "stdout",
     "output_type": "stream",
     "text": [
      "Введите имя пользователя:\n",
      "gosha\n",
      "Введите установленный пароль: 2\n",
      "Здравствуйте,  gosha\n",
      "    ----------------------------------------\n",
      "    1.Создание папки (с указанием имени);\n",
      "    2.Удаление папки по имени;\n",
      "    3.Перемещение между папками (в пределах рабочей папки) - заход в папку по имени, выход на уровень вверх;\n",
      "    4.Создание пустых файлов с указанием имени;\n",
      "    5.Запись текста в файл;\n",
      "    6.Просмотр содержимого текстового файла;\n",
      "    7.Удаление файлов по имени;\n",
      "    8.Копирование файлов из одной папки в другую;\n",
      "    9.Перемещение файлов;\n",
      "    10.Переименование файлов.\n",
      "    11.Вывод текущей директории\n",
      "    0 - выход пользователя\n",
      "    ----------------------------------------\n",
      "Выберите номер желаемой команды 11\n",
      "/Users/admin/файловый менеджер/gosha\n",
      "    ----------------------------------------\n",
      "    1.Создание папки (с указанием имени);\n",
      "    2.Удаление папки по имени;\n",
      "    3.Перемещение между папками (в пределах рабочей папки) - заход в папку по имени, выход на уровень вверх;\n",
      "    4.Создание пустых файлов с указанием имени;\n",
      "    5.Запись текста в файл;\n",
      "    6.Просмотр содержимого текстового файла;\n",
      "    7.Удаление файлов по имени;\n",
      "    8.Копирование файлов из одной папки в другую;\n",
      "    9.Перемещение файлов;\n",
      "    10.Переименование файлов.\n",
      "    11.Вывод текущей директории\n",
      "    0 - выход пользователя\n",
      "    ----------------------------------------\n"
     ]
    }
   ],
   "source": [
    "task()"
   ]
  },
  {
   "cell_type": "code",
   "execution_count": 20,
   "id": "f627beed",
   "metadata": {},
   "outputs": [],
   "source": [
    "#shutil.copyfile('vova/txt1.txt','vova/v1/copy_txt1.txt')"
   ]
  },
  {
   "cell_type": "code",
   "execution_count": 21,
   "id": "187a204d",
   "metadata": {},
   "outputs": [],
   "source": [
    "#os.replace('vova/v1/vv1/copy2_txt1.txt','copy2_txt1.txt')"
   ]
  },
  {
   "cell_type": "code",
   "execution_count": 22,
   "id": "7aaf743a",
   "metadata": {},
   "outputs": [],
   "source": [
    "#os.replace('copy2_txt1.txt','vova/v1/vv1/copy2_txt1.txt')"
   ]
  }
 ],
 "metadata": {
  "kernelspec": {
   "display_name": "Python 3 (ipykernel)",
   "language": "python",
   "name": "python3"
  },
  "language_info": {
   "codemirror_mode": {
    "name": "ipython",
    "version": 3
   },
   "file_extension": ".py",
   "mimetype": "text/x-python",
   "name": "python",
   "nbconvert_exporter": "python",
   "pygments_lexer": "ipython3",
   "version": "3.8.8"
  }
 },
 "nbformat": 4,
 "nbformat_minor": 5
}
